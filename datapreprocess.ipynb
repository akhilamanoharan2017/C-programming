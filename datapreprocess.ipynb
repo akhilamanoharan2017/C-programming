{
  "nbformat": 4,
  "nbformat_minor": 0,
  "metadata": {
    "colab": {
      "name": "Untitled0.ipynb",
      "provenance": [],
      "authorship_tag": "ABX9TyPHRylN4A2VwyBztspKLnOk",
      "include_colab_link": true
    },
    "kernelspec": {
      "name": "python3",
      "display_name": "Python 3"
    },
    "language_info": {
      "name": "python"
    }
  },
  "cells": [
    {
      "cell_type": "markdown",
      "metadata": {
        "id": "view-in-github",
        "colab_type": "text"
      },
      "source": [
        "<a href=\"https://colab.research.google.com/github/akhilamanoharan2017/C-programming/blob/main/datapreprocess.ipynb\" target=\"_parent\"><img src=\"https://colab.research.google.com/assets/colab-badge.svg\" alt=\"Open In Colab\"/></a>"
      ]
    },
    {
      "cell_type": "code",
      "execution_count": 1,
      "metadata": {
        "id": "eTmuYeS918MT"
      },
      "outputs": [],
      "source": [
        "import numpy as np\n",
        "import pandas as pd\n",
        "import matplotlib.pyplot as plt"
      ]
    },
    {
      "cell_type": "code",
      "source": [
        "from sklearn.ensemble import RandomForestClassifier"
      ],
      "metadata": {
        "id": "8n9VFFL62iV-"
      },
      "execution_count": 2,
      "outputs": []
    },
    {
      "cell_type": "code",
      "source": [
        "from google.colab import drive\n",
        "drive.mount('/content/drive')\n"
      ],
      "metadata": {
        "colab": {
          "base_uri": "https://localhost:8080/"
        },
        "id": "306-2au12_Pk",
        "outputId": "5ddc3f41-9661-40b6-a1ff-2fc032ec2d11"
      },
      "execution_count": 3,
      "outputs": [
        {
          "output_type": "stream",
          "name": "stdout",
          "text": [
            "Mounted at /content/drive\n"
          ]
        }
      ]
    },
    {
      "cell_type": "code",
      "source": [
        "cars_data = pd.read_csv(\"/content/drive/MyDrive/car_data.csv\")\n",
        "cars_data.head() "
      ],
      "metadata": {
        "colab": {
          "base_uri": "https://localhost:8080/",
          "height": 369
        },
        "id": "hLBsnZKm2_RA",
        "outputId": "af7c30ff-5a26-4888-a002-fe0fcbab96ea"
      },
      "execution_count": 5,
      "outputs": [
        {
          "output_type": "execute_result",
          "data": {
            "text/plain": [
              "   Unnamed: 0         make fuel_type aspiration num_of_doors   body_style  \\\n",
              "0           1  alfa-romero       gas        std          two  convertible   \n",
              "1           2  alfa-romero       gas        std          two  convertible   \n",
              "2           3  alfa-romero       gas        std          two    hatchback   \n",
              "3           4         audi       gas        std         four        sedan   \n",
              "4           5         audi       gas        std         four        sedan   \n",
              "\n",
              "  drive_wheels engine_location  wheel_base  length  ...  engine_type  \\\n",
              "0          rwd           front        88.6   168.8  ...         dohc   \n",
              "1          rwd           front        88.6   168.8  ...         dohc   \n",
              "2          rwd           front        94.5   171.2  ...         ohcv   \n",
              "3          fwd           front        99.8   176.6  ...          ohc   \n",
              "4          4wd           front        99.4   176.6  ...          ohc   \n",
              "\n",
              "   num_of_cylinders  engine_size fuel_system compression_ratio  horsepower  \\\n",
              "0              four          130        mpfi               9.0         111   \n",
              "1              four          130        mpfi               9.0         111   \n",
              "2               six          152        mpfi               9.0         154   \n",
              "3              four          109        mpfi              10.0         102   \n",
              "4              five          136        mpfi               8.0         115   \n",
              "\n",
              "  peak_rpm  city_mpg highway_mpg  price  \n",
              "0     5000        21          27  13495  \n",
              "1     5000        21          27  16500  \n",
              "2     5000        19          26  16500  \n",
              "3     5500        24          30  13950  \n",
              "4     5500        18          22  17450  \n",
              "\n",
              "[5 rows x 23 columns]"
            ],
            "text/html": [
              "\n",
              "  <div id=\"df-64627203-581d-49d8-a1fd-fd10cd3a57d6\">\n",
              "    <div class=\"colab-df-container\">\n",
              "      <div>\n",
              "<style scoped>\n",
              "    .dataframe tbody tr th:only-of-type {\n",
              "        vertical-align: middle;\n",
              "    }\n",
              "\n",
              "    .dataframe tbody tr th {\n",
              "        vertical-align: top;\n",
              "    }\n",
              "\n",
              "    .dataframe thead th {\n",
              "        text-align: right;\n",
              "    }\n",
              "</style>\n",
              "<table border=\"1\" class=\"dataframe\">\n",
              "  <thead>\n",
              "    <tr style=\"text-align: right;\">\n",
              "      <th></th>\n",
              "      <th>Unnamed: 0</th>\n",
              "      <th>make</th>\n",
              "      <th>fuel_type</th>\n",
              "      <th>aspiration</th>\n",
              "      <th>num_of_doors</th>\n",
              "      <th>body_style</th>\n",
              "      <th>drive_wheels</th>\n",
              "      <th>engine_location</th>\n",
              "      <th>wheel_base</th>\n",
              "      <th>length</th>\n",
              "      <th>...</th>\n",
              "      <th>engine_type</th>\n",
              "      <th>num_of_cylinders</th>\n",
              "      <th>engine_size</th>\n",
              "      <th>fuel_system</th>\n",
              "      <th>compression_ratio</th>\n",
              "      <th>horsepower</th>\n",
              "      <th>peak_rpm</th>\n",
              "      <th>city_mpg</th>\n",
              "      <th>highway_mpg</th>\n",
              "      <th>price</th>\n",
              "    </tr>\n",
              "  </thead>\n",
              "  <tbody>\n",
              "    <tr>\n",
              "      <th>0</th>\n",
              "      <td>1</td>\n",
              "      <td>alfa-romero</td>\n",
              "      <td>gas</td>\n",
              "      <td>std</td>\n",
              "      <td>two</td>\n",
              "      <td>convertible</td>\n",
              "      <td>rwd</td>\n",
              "      <td>front</td>\n",
              "      <td>88.6</td>\n",
              "      <td>168.8</td>\n",
              "      <td>...</td>\n",
              "      <td>dohc</td>\n",
              "      <td>four</td>\n",
              "      <td>130</td>\n",
              "      <td>mpfi</td>\n",
              "      <td>9.0</td>\n",
              "      <td>111</td>\n",
              "      <td>5000</td>\n",
              "      <td>21</td>\n",
              "      <td>27</td>\n",
              "      <td>13495</td>\n",
              "    </tr>\n",
              "    <tr>\n",
              "      <th>1</th>\n",
              "      <td>2</td>\n",
              "      <td>alfa-romero</td>\n",
              "      <td>gas</td>\n",
              "      <td>std</td>\n",
              "      <td>two</td>\n",
              "      <td>convertible</td>\n",
              "      <td>rwd</td>\n",
              "      <td>front</td>\n",
              "      <td>88.6</td>\n",
              "      <td>168.8</td>\n",
              "      <td>...</td>\n",
              "      <td>dohc</td>\n",
              "      <td>four</td>\n",
              "      <td>130</td>\n",
              "      <td>mpfi</td>\n",
              "      <td>9.0</td>\n",
              "      <td>111</td>\n",
              "      <td>5000</td>\n",
              "      <td>21</td>\n",
              "      <td>27</td>\n",
              "      <td>16500</td>\n",
              "    </tr>\n",
              "    <tr>\n",
              "      <th>2</th>\n",
              "      <td>3</td>\n",
              "      <td>alfa-romero</td>\n",
              "      <td>gas</td>\n",
              "      <td>std</td>\n",
              "      <td>two</td>\n",
              "      <td>hatchback</td>\n",
              "      <td>rwd</td>\n",
              "      <td>front</td>\n",
              "      <td>94.5</td>\n",
              "      <td>171.2</td>\n",
              "      <td>...</td>\n",
              "      <td>ohcv</td>\n",
              "      <td>six</td>\n",
              "      <td>152</td>\n",
              "      <td>mpfi</td>\n",
              "      <td>9.0</td>\n",
              "      <td>154</td>\n",
              "      <td>5000</td>\n",
              "      <td>19</td>\n",
              "      <td>26</td>\n",
              "      <td>16500</td>\n",
              "    </tr>\n",
              "    <tr>\n",
              "      <th>3</th>\n",
              "      <td>4</td>\n",
              "      <td>audi</td>\n",
              "      <td>gas</td>\n",
              "      <td>std</td>\n",
              "      <td>four</td>\n",
              "      <td>sedan</td>\n",
              "      <td>fwd</td>\n",
              "      <td>front</td>\n",
              "      <td>99.8</td>\n",
              "      <td>176.6</td>\n",
              "      <td>...</td>\n",
              "      <td>ohc</td>\n",
              "      <td>four</td>\n",
              "      <td>109</td>\n",
              "      <td>mpfi</td>\n",
              "      <td>10.0</td>\n",
              "      <td>102</td>\n",
              "      <td>5500</td>\n",
              "      <td>24</td>\n",
              "      <td>30</td>\n",
              "      <td>13950</td>\n",
              "    </tr>\n",
              "    <tr>\n",
              "      <th>4</th>\n",
              "      <td>5</td>\n",
              "      <td>audi</td>\n",
              "      <td>gas</td>\n",
              "      <td>std</td>\n",
              "      <td>four</td>\n",
              "      <td>sedan</td>\n",
              "      <td>4wd</td>\n",
              "      <td>front</td>\n",
              "      <td>99.4</td>\n",
              "      <td>176.6</td>\n",
              "      <td>...</td>\n",
              "      <td>ohc</td>\n",
              "      <td>five</td>\n",
              "      <td>136</td>\n",
              "      <td>mpfi</td>\n",
              "      <td>8.0</td>\n",
              "      <td>115</td>\n",
              "      <td>5500</td>\n",
              "      <td>18</td>\n",
              "      <td>22</td>\n",
              "      <td>17450</td>\n",
              "    </tr>\n",
              "  </tbody>\n",
              "</table>\n",
              "<p>5 rows × 23 columns</p>\n",
              "</div>\n",
              "      <button class=\"colab-df-convert\" onclick=\"convertToInteractive('df-64627203-581d-49d8-a1fd-fd10cd3a57d6')\"\n",
              "              title=\"Convert this dataframe to an interactive table.\"\n",
              "              style=\"display:none;\">\n",
              "        \n",
              "  <svg xmlns=\"http://www.w3.org/2000/svg\" height=\"24px\"viewBox=\"0 0 24 24\"\n",
              "       width=\"24px\">\n",
              "    <path d=\"M0 0h24v24H0V0z\" fill=\"none\"/>\n",
              "    <path d=\"M18.56 5.44l.94 2.06.94-2.06 2.06-.94-2.06-.94-.94-2.06-.94 2.06-2.06.94zm-11 1L8.5 8.5l.94-2.06 2.06-.94-2.06-.94L8.5 2.5l-.94 2.06-2.06.94zm10 10l.94 2.06.94-2.06 2.06-.94-2.06-.94-.94-2.06-.94 2.06-2.06.94z\"/><path d=\"M17.41 7.96l-1.37-1.37c-.4-.4-.92-.59-1.43-.59-.52 0-1.04.2-1.43.59L10.3 9.45l-7.72 7.72c-.78.78-.78 2.05 0 2.83L4 21.41c.39.39.9.59 1.41.59.51 0 1.02-.2 1.41-.59l7.78-7.78 2.81-2.81c.8-.78.8-2.07 0-2.86zM5.41 20L4 18.59l7.72-7.72 1.47 1.35L5.41 20z\"/>\n",
              "  </svg>\n",
              "      </button>\n",
              "      \n",
              "  <style>\n",
              "    .colab-df-container {\n",
              "      display:flex;\n",
              "      flex-wrap:wrap;\n",
              "      gap: 12px;\n",
              "    }\n",
              "\n",
              "    .colab-df-convert {\n",
              "      background-color: #E8F0FE;\n",
              "      border: none;\n",
              "      border-radius: 50%;\n",
              "      cursor: pointer;\n",
              "      display: none;\n",
              "      fill: #1967D2;\n",
              "      height: 32px;\n",
              "      padding: 0 0 0 0;\n",
              "      width: 32px;\n",
              "    }\n",
              "\n",
              "    .colab-df-convert:hover {\n",
              "      background-color: #E2EBFA;\n",
              "      box-shadow: 0px 1px 2px rgba(60, 64, 67, 0.3), 0px 1px 3px 1px rgba(60, 64, 67, 0.15);\n",
              "      fill: #174EA6;\n",
              "    }\n",
              "\n",
              "    [theme=dark] .colab-df-convert {\n",
              "      background-color: #3B4455;\n",
              "      fill: #D2E3FC;\n",
              "    }\n",
              "\n",
              "    [theme=dark] .colab-df-convert:hover {\n",
              "      background-color: #434B5C;\n",
              "      box-shadow: 0px 1px 3px 1px rgba(0, 0, 0, 0.15);\n",
              "      filter: drop-shadow(0px 1px 2px rgba(0, 0, 0, 0.3));\n",
              "      fill: #FFFFFF;\n",
              "    }\n",
              "  </style>\n",
              "\n",
              "      <script>\n",
              "        const buttonEl =\n",
              "          document.querySelector('#df-64627203-581d-49d8-a1fd-fd10cd3a57d6 button.colab-df-convert');\n",
              "        buttonEl.style.display =\n",
              "          google.colab.kernel.accessAllowed ? 'block' : 'none';\n",
              "\n",
              "        async function convertToInteractive(key) {\n",
              "          const element = document.querySelector('#df-64627203-581d-49d8-a1fd-fd10cd3a57d6');\n",
              "          const dataTable =\n",
              "            await google.colab.kernel.invokeFunction('convertToInteractive',\n",
              "                                                     [key], {});\n",
              "          if (!dataTable) return;\n",
              "\n",
              "          const docLinkHtml = 'Like what you see? Visit the ' +\n",
              "            '<a target=\"_blank\" href=https://colab.research.google.com/notebooks/data_table.ipynb>data table notebook</a>'\n",
              "            + ' to learn more about interactive tables.';\n",
              "          element.innerHTML = '';\n",
              "          dataTable['output_type'] = 'display_data';\n",
              "          await google.colab.output.renderOutput(dataTable, element);\n",
              "          const docLink = document.createElement('div');\n",
              "          docLink.innerHTML = docLinkHtml;\n",
              "          element.appendChild(docLink);\n",
              "        }\n",
              "      </script>\n",
              "    </div>\n",
              "  </div>\n",
              "  "
            ]
          },
          "metadata": {},
          "execution_count": 5
        }
      ]
    },
    {
      "cell_type": "code",
      "source": [
        "cars_data.shape"
      ],
      "metadata": {
        "colab": {
          "base_uri": "https://localhost:8080/"
        },
        "id": "SJw-kCwO2_Um",
        "outputId": "8171ed6b-283a-4378-ab44-12c72f22db2f"
      },
      "execution_count": 7,
      "outputs": [
        {
          "output_type": "execute_result",
          "data": {
            "text/plain": [
              "(205, 23)"
            ]
          },
          "metadata": {},
          "execution_count": 7
        }
      ]
    },
    {
      "cell_type": "code",
      "source": [
        "cars_data.info()"
      ],
      "metadata": {
        "colab": {
          "base_uri": "https://localhost:8080/"
        },
        "id": "G-Dl4e1c2_Wy",
        "outputId": "377af53e-6216-40fc-ad1f-79d2aec23761"
      },
      "execution_count": 9,
      "outputs": [
        {
          "output_type": "stream",
          "name": "stdout",
          "text": [
            "<class 'pandas.core.frame.DataFrame'>\n",
            "RangeIndex: 205 entries, 0 to 204\n",
            "Data columns (total 23 columns):\n",
            " #   Column             Non-Null Count  Dtype  \n",
            "---  ------             --------------  -----  \n",
            " 0   Unnamed: 0         205 non-null    int64  \n",
            " 1   make               205 non-null    object \n",
            " 2   fuel_type          205 non-null    object \n",
            " 3   aspiration         205 non-null    object \n",
            " 4   num_of_doors       205 non-null    object \n",
            " 5   body_style         205 non-null    object \n",
            " 6   drive_wheels       205 non-null    object \n",
            " 7   engine_location    205 non-null    object \n",
            " 8   wheel_base         205 non-null    float64\n",
            " 9   length             205 non-null    float64\n",
            " 10  width              205 non-null    float64\n",
            " 11  height             205 non-null    float64\n",
            " 12  curb_weight        205 non-null    int64  \n",
            " 13  engine_type        205 non-null    object \n",
            " 14  num_of_cylinders   205 non-null    object \n",
            " 15  engine_size        205 non-null    int64  \n",
            " 16  fuel_system        205 non-null    object \n",
            " 17  compression_ratio  205 non-null    float64\n",
            " 18  horsepower         205 non-null    object \n",
            " 19  peak_rpm           205 non-null    object \n",
            " 20  city_mpg           205 non-null    int64  \n",
            " 21  highway_mpg        205 non-null    int64  \n",
            " 22  price              205 non-null    object \n",
            "dtypes: float64(5), int64(5), object(13)\n",
            "memory usage: 37.0+ KB\n"
          ]
        }
      ]
    },
    {
      "cell_type": "code",
      "source": [
        "cars_data.isnull().sum()"
      ],
      "metadata": {
        "colab": {
          "base_uri": "https://localhost:8080/"
        },
        "id": "TzvJHmuK2_Z5",
        "outputId": "b636dbbc-97b4-4240-8179-58eee1052b71"
      },
      "execution_count": 10,
      "outputs": [
        {
          "output_type": "execute_result",
          "data": {
            "text/plain": [
              "Unnamed: 0           0\n",
              "make                 0\n",
              "fuel_type            0\n",
              "aspiration           0\n",
              "num_of_doors         0\n",
              "body_style           0\n",
              "drive_wheels         0\n",
              "engine_location      0\n",
              "wheel_base           0\n",
              "length               0\n",
              "width                0\n",
              "height               0\n",
              "curb_weight          0\n",
              "engine_type          0\n",
              "num_of_cylinders     0\n",
              "engine_size          0\n",
              "fuel_system          0\n",
              "compression_ratio    0\n",
              "horsepower           0\n",
              "peak_rpm             0\n",
              "city_mpg             0\n",
              "highway_mpg          0\n",
              "price                0\n",
              "dtype: int64"
            ]
          },
          "metadata": {},
          "execution_count": 10
        }
      ]
    },
    {
      "cell_type": "code",
      "source": [
        "print(cars_data.fuel_type.value_counts())\n",
        "print(cars_data.num_of_doors.value_counts())\n",
        "print(cars_data.engine_location.value_counts())\n",
        "print(cars_data.num_of_cylinders.value_counts())\n",
        "print(cars_data.drive_wheels.value_counts())\n",
        "print(cars_data.engine_type.value_counts())\n",
        "print(cars_data.engine_size.value_counts())\n"
      ],
      "metadata": {
        "colab": {
          "base_uri": "https://localhost:8080/"
        },
        "id": "M6Tp1-_H2i0N",
        "outputId": "f6fe3a70-9cef-450f-89e3-3a374fd6e1db"
      },
      "execution_count": 14,
      "outputs": [
        {
          "output_type": "stream",
          "name": "stdout",
          "text": [
            "gas       185\n",
            "diesel     20\n",
            "Name: fuel_type, dtype: int64\n",
            "four    114\n",
            "two      89\n",
            "?         2\n",
            "Name: num_of_doors, dtype: int64\n",
            "front    202\n",
            "rear       3\n",
            "Name: engine_location, dtype: int64\n",
            "four      159\n",
            "six        24\n",
            "five       11\n",
            "eight       5\n",
            "two         4\n",
            "three       1\n",
            "twelve      1\n",
            "Name: num_of_cylinders, dtype: int64\n",
            "fwd    120\n",
            "rwd     76\n",
            "4wd      9\n",
            "Name: drive_wheels, dtype: int64\n",
            "ohc      148\n",
            "ohcf      15\n",
            "ohcv      13\n",
            "dohc      12\n",
            "l         12\n",
            "rotor      4\n",
            "dohcv      1\n",
            "Name: engine_type, dtype: int64\n",
            "122    15\n",
            "92     15\n",
            "97     14\n",
            "98     14\n",
            "108    13\n",
            "90     12\n",
            "110    12\n",
            "109     8\n",
            "120     7\n",
            "141     7\n",
            "152     6\n",
            "181     6\n",
            "146     6\n",
            "121     6\n",
            "156     5\n",
            "136     5\n",
            "91      5\n",
            "183     4\n",
            "130     4\n",
            "171     3\n",
            "70      3\n",
            "194     3\n",
            "209     3\n",
            "164     3\n",
            "258     2\n",
            "140     2\n",
            "134     2\n",
            "234     2\n",
            "132     2\n",
            "131     2\n",
            "173     1\n",
            "203     1\n",
            "161     1\n",
            "80      1\n",
            "151     1\n",
            "103     1\n",
            "304     1\n",
            "308     1\n",
            "326     1\n",
            "119     1\n",
            "111     1\n",
            "79      1\n",
            "61      1\n",
            "145     1\n",
            "Name: engine_size, dtype: int64\n"
          ]
        }
      ]
    },
    {
      "cell_type": "code",
      "source": [
        "cars_data.replace({'fuel_type':{'diesel':0,'gas':1}},inplace=True)\n",
        "\n",
        "cars_data.replace({'num_of_doors':{'four':0,'two':1,'?':2}},inplace=True)\n",
        "\n",
        "cars_data.replace({'engine_location':{'front':0,'rear':1}},inplace=True)\n",
        "\n",
        "cars_data.replace({'drive_wheels':{'fwd':0,'rwd':1,'4wd':2}},inplace=True)\n",
        "\n",
        "cars_data.replace({'num_of_cylinders':{'four':0,'six':1,'five':2,'eight':3,'two':4,'three':5,'twelve':6}},inplace=True)\n"
      ],
      "metadata": {
        "id": "v7oGeRUF_X5B"
      },
      "execution_count": 84,
      "outputs": []
    },
    {
      "cell_type": "code",
      "source": [
        "cars_data.head()"
      ],
      "metadata": {
        "id": "qMwk5c-ZFKLs"
      },
      "execution_count": null,
      "outputs": []
    },
    {
      "cell_type": "code",
      "source": [
        "x=cars_data[['make','fuel_type','num_of_doors','engine_location','drive_wheels','num_of_cylinders']]"
      ],
      "metadata": {
        "id": "WykDsbAV_X_T"
      },
      "execution_count": 85,
      "outputs": []
    },
    {
      "cell_type": "code",
      "source": [
        "print(x)"
      ],
      "metadata": {
        "colab": {
          "base_uri": "https://localhost:8080/"
        },
        "id": "yidPBrkh_YBE",
        "outputId": "fbac14b8-df19-4880-94d7-d5d1c24fe581"
      },
      "execution_count": 96,
      "outputs": [
        {
          "output_type": "stream",
          "name": "stdout",
          "text": [
            "            make  fuel_type  num_of_doors  engine_location  drive_wheels  \\\n",
            "0    alfa-romero          1             1                0             1   \n",
            "1    alfa-romero          1             1                0             1   \n",
            "2    alfa-romero          1             1                0             1   \n",
            "3           audi          1             0                0             0   \n",
            "4           audi          1             0                0             2   \n",
            "..           ...        ...           ...              ...           ...   \n",
            "200        volvo          1             0                0             1   \n",
            "201        volvo          1             0                0             1   \n",
            "202        volvo          1             0                0             1   \n",
            "203        volvo          0             0                0             1   \n",
            "204        volvo          1             0                0             1   \n",
            "\n",
            "     num_of_cylinders  \n",
            "0                   0  \n",
            "1                   0  \n",
            "2                   1  \n",
            "3                   0  \n",
            "4                   2  \n",
            "..                ...  \n",
            "200                 0  \n",
            "201                 0  \n",
            "202                 1  \n",
            "203                 1  \n",
            "204                 0  \n",
            "\n",
            "[205 rows x 6 columns]\n"
          ]
        }
      ]
    },
    {
      "cell_type": "code",
      "source": [
        "y= cars_data['price']"
      ],
      "metadata": {
        "id": "eNpzRDsQ_YFB"
      },
      "execution_count": 23,
      "outputs": []
    },
    {
      "cell_type": "code",
      "source": [
        "print(y)"
      ],
      "metadata": {
        "colab": {
          "base_uri": "https://localhost:8080/"
        },
        "id": "NVIL0a-X_YLK",
        "outputId": "26140e9f-43dc-4b4e-8603-336449f048f9"
      },
      "execution_count": 24,
      "outputs": [
        {
          "output_type": "stream",
          "name": "stdout",
          "text": [
            "0      13495\n",
            "1      16500\n",
            "2      16500\n",
            "3      13950\n",
            "4      17450\n",
            "       ...  \n",
            "200    16845\n",
            "201    19045\n",
            "202    21485\n",
            "203    22470\n",
            "204    22625\n",
            "Name: price, Length: 205, dtype: object\n"
          ]
        }
      ]
    },
    {
      "cell_type": "code",
      "source": [
        "from sklearn.impute import SimpleImputer\n",
        "from sklearn.compose import ColumnTransformer\n",
        "#Fill categorical values with 'missing' & numerical values with mean\n",
        "cat_imputer=SimpleImputer(strategy=\"constant\",fill_value=\"missing\")\n",
        "num_imputer=SimpleImputer(strategy=\"mean\")"
      ],
      "metadata": {
        "id": "BnJSgKo_F7sR"
      },
      "execution_count": 97,
      "outputs": []
    },
    {
      "cell_type": "code",
      "source": [
        "#Define columns\n",
        "\n",
        "cat_features = [\"make\",\"fuel_type\"]\n",
        "num_features =[\"num_of_doors\",\"engine_location\",\"drive_wheels\",\"num_of_cylinders\"]"
      ],
      "metadata": {
        "id": "Ht9B5JH1F7-j"
      },
      "execution_count": 103,
      "outputs": []
    },
    {
      "cell_type": "code",
      "source": [
        "# Create an imputer (Something that fills missing data)\n",
        "imputer = ColumnTransformer([\n",
        " (\"cat_imputer\",cat_imputer,cat_features),\n",
        " (\"num_imputer\",num_imputer,num_features)])\n",
        "# Transformed the Data\n",
        "filled_x = imputer.fit_transform(x)\n",
        "filled_x"
      ],
      "metadata": {
        "colab": {
          "base_uri": "https://localhost:8080/"
        },
        "id": "unFVM019JNr9",
        "outputId": "664c1e7d-a873-416d-afcb-b10f1602c83a"
      },
      "execution_count": 104,
      "outputs": [
        {
          "output_type": "execute_result",
          "data": {
            "text/plain": [
              "array([['alfa-romero', 1, 1.0, 0.0, 1.0, 0.0],\n",
              "       ['alfa-romero', 1, 1.0, 0.0, 1.0, 0.0],\n",
              "       ['alfa-romero', 1, 1.0, 0.0, 1.0, 1.0],\n",
              "       ...,\n",
              "       ['volvo', 1, 0.0, 0.0, 1.0, 1.0],\n",
              "       ['volvo', 0, 0.0, 0.0, 1.0, 1.0],\n",
              "       ['volvo', 1, 0.0, 0.0, 1.0, 0.0]], dtype=object)"
            ]
          },
          "metadata": {},
          "execution_count": 104
        }
      ]
    },
    {
      "cell_type": "code",
      "source": [
        "cars_data_filled = pd.DataFrame(filled_x,columns=[\"make\",\"fuel_type\",\"num_of_doors\",\"engine_location\",\"drive_wheels\",\"num_of_cylinders\"])\n"
      ],
      "metadata": {
        "id": "QO3iKb4YMoPl"
      },
      "execution_count": 105,
      "outputs": []
    },
    {
      "cell_type": "code",
      "source": [
        "from sklearn.preprocessing import OneHotEncoder\n",
        "from sklearn.compose import ColumnTransformer\n",
        "categorical_features = [\"make\",\"fuel_type\"]\n",
        "one_hot = OneHotEncoder()\n",
        "transformer= ColumnTransformer([(\"one_hot\",\n",
        "                                 one_hot,\n",
        "                                 categorical_features)],\n",
        "                               remainder=\"passthrough\")\n",
        "\n",
        "transformed_x=transformer.fit_transform(cars_data_filled);\n",
        "transformed_x\n"
      ],
      "metadata": {
        "colab": {
          "base_uri": "https://localhost:8080/"
        },
        "id": "1xsAP3RbJNxB",
        "outputId": "6471922e-d4a2-441b-ecbd-f0bfbea528ea"
      },
      "execution_count": 108,
      "outputs": [
        {
          "output_type": "execute_result",
          "data": {
            "text/plain": [
              "<205x28 sparse matrix of type '<class 'numpy.float64'>'\n",
              "\twith 635 stored elements in Compressed Sparse Row format>"
            ]
          },
          "metadata": {},
          "execution_count": 108
        }
      ]
    },
    {
      "cell_type": "code",
      "source": [
        "np.random.seed(42)\n",
        "from sklearn.ensemble import RandomForestRegressor\n",
        "from sklearn.model_selection import train_test_split\n",
        "X_train,X_test,y_train,y_test=train_test_split(transformed_x,y,test_size=0.2)\n",
        "\n",
        "model = RandomForestRegressor()\n",
        "model.fit(X_train,y_train)\n",
        "model.score(X_test,y_test)"
      ],
      "metadata": {
        "id": "DceSmAp-fpP6"
      },
      "execution_count": null,
      "outputs": []
    },
    {
      "cell_type": "code",
      "source": [
        ""
      ],
      "metadata": {
        "id": "v0C9aNMBfpbd"
      },
      "execution_count": null,
      "outputs": []
    }
  ]
}